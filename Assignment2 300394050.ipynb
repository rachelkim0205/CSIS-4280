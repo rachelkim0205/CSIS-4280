{
 "cells": [
  {
   "cell_type": "markdown",
   "metadata": {},
   "source": [
    "# IPA vs Lager: Analyzing Reddit Discussions \n",
    "### Web Scraping & Sentiment Analysis\n",
    "\n",
    "CSIS 4260 / 300394050 / Rachel Kim"
   ]
  },
  {
   "cell_type": "markdown",
   "metadata": {},
   "source": [
    "Static websites often use BeautifulSoup, while dynamic websites typically rely on Selenium. However, platforms like Reddit impose restrictions such as login requirements, API rate limits, and bot detection systems, making traditional web scraping methods (BS4, Selenium, etc.) difficult to implement.\n",
    "\n",
    "Therefore, to collect data from Reddit in a stable and efficient manner, I decided to use PRAW and JSON API to analyze user opinions on IPA and Lager."
   ]
  },
  {
   "cell_type": "markdown",
   "metadata": {},
   "source": [
    "## Part 1: Web scraping : Praw  vs Requests + Json api"
   ]
  },
  {
   "cell_type": "markdown",
   "metadata": {},
   "source": [
    "### 1.1. Praw"
   ]
  },
  {
   "cell_type": "code",
   "execution_count": 76,
   "metadata": {},
   "outputs": [],
   "source": [
    "# Import Library for Praw\n",
    "import praw\n",
    "import pandas as pd\n",
    "import time"
   ]
  },
  {
   "cell_type": "code",
   "execution_count": 77,
   "metadata": {},
   "outputs": [],
   "source": [
    "# Enter my user information for Access to Reddit\n",
    "reddit = praw.Reddit(\n",
    "    client_id=\"EPxklbuaSYjqQeitrb_PuQ\",\n",
    "    client_secret=\"VCtdzE9j_kILiK8-h93n8DBtPMz_8w\",\n",
    "    password=\"hb@qiz834LtaXYn\",\n",
    "    user_agent=\"Apprehensive_You9283\",\n",
    "    username=\"Apprehensive_You9283\",\n",
    ")"
   ]
  },
  {
   "cell_type": "code",
   "execution_count": 78,
   "metadata": {},
   "outputs": [
    {
     "name": "stdout",
     "output_type": "stream",
     "text": [
      "DataFrame is saved. \n",
      "Praw Time: 7.10s\n"
     ]
    }
   ],
   "source": [
    "\n",
    "# keywords, subreddit list\n",
    "beer_keywords = [\"IPA\", \"lager\"]\n",
    "subreddits = [\"beer\", \"craftbeer\", \"alcohol\"]\n",
    "\n",
    "# List for store data\n",
    "posts = []\n",
    "\n",
    "# Start measuring execution time\n",
    "start_time = time.time()\n",
    "\n",
    "# Scraping\n",
    "for subreddit in subreddits:\n",
    "    sub = reddit.subreddit(subreddit)\n",
    "    for keyword in beer_keywords:\n",
    "        for submission in sub.search(keyword, limit=50): \n",
    "            posts.append([subreddit, keyword, submission.title, submission.selftext, submission.score])\n",
    "            \n",
    "# End measuring execution time\n",
    "end_time = time.time()\n",
    "praw_time = end_time - start_time\n",
    "\n",
    "# saving the data to dataframe \n",
    "df = pd.DataFrame(posts, columns=[\"Subreddit\", \"Keyword\", \"Title\", \"Text\", \"Score\"])\n",
    "df.to_csv(\"beer_reviews_praw.csv\", index=False)\n",
    "print(f\"DataFrame is saved. \\nPraw Time: {praw_time:.2f}s\")"
   ]
  },
  {
   "cell_type": "code",
   "execution_count": 79,
   "metadata": {},
   "outputs": [
    {
     "data": {
      "text/plain": [
       "<bound method DataFrame.info of     Subreddit Keyword                                              Title  \\\n",
       "0        beer     IPA  If your IPA does not have the date printed on ...   \n",
       "1        beer     IPA  Non-IPA drinkers - are there any IPAs that you...   \n",
       "2        beer     IPA  \"IPA has gone too far.\", says former Stone bre...   \n",
       "3        beer     IPA  Potentially unpopular opinion: a “variety pack...   \n",
       "4        beer     IPA  Who here remembers Ranger IPA before it became...   \n",
       "..        ...     ...                                                ...   \n",
       "295   alcohol   lager               Found behind my old hot water heater   \n",
       "296   alcohol   lager        \"heh you don't drink it for the taste, kid\"   \n",
       "297   alcohol   lager           Graph of alcohols and my future mini-bar   \n",
       "298   alcohol   lager               Why in the hell do people like ipas?   \n",
       "299   alcohol   lager         best alcohol to drink on night out on diet   \n",
       "\n",
       "                                                  Text  Score  \n",
       "0    I’m tired of seeing no dates on cans, nothing ...    717  \n",
       "1    Hey everyone. I turned 21 in November, and my ...     54  \n",
       "2                                                        1704  \n",
       "3                                       I have spoken     589  \n",
       "4    To me voodoo ranger sucks ( especially the jui...    238  \n",
       "..                                                 ...    ...  \n",
       "295              Anyone know what decade this is from?     29  \n",
       "296  How often that line comes up in films or TV. Y...     65  \n",
       "297                                                         1  \n",
       "298  I got 4 different highly rated IPA's from my l...     45  \n",
       "299  so i’ve been smashing diet recently ; losses 4...      1  \n",
       "\n",
       "[300 rows x 5 columns]>"
      ]
     },
     "execution_count": 79,
     "metadata": {},
     "output_type": "execute_result"
    }
   ],
   "source": [
    "# Check the data\n",
    "df.info"
   ]
  },
  {
   "cell_type": "markdown",
   "metadata": {},
   "source": [
    "#### Praw Result\n",
    "- The number of pages: 300  \n",
    "- Praw Time for scraping: 7.1s "
   ]
  },
  {
   "cell_type": "markdown",
   "metadata": {},
   "source": [
    "### 1.2. Requests + Json api"
   ]
  },
  {
   "cell_type": "code",
   "execution_count": 80,
   "metadata": {},
   "outputs": [],
   "source": [
    "# import library for Requests + Json\n",
    "import requests\n",
    "import pandas as pd\n",
    "import time"
   ]
  },
  {
   "cell_type": "code",
   "execution_count": 81,
   "metadata": {},
   "outputs": [
    {
     "name": "stdout",
     "output_type": "stream",
     "text": [
      "DataFrame is saved. \n",
      "Requests+Json api Time: 4.81 seconds\n"
     ]
    }
   ],
   "source": [
    "# keywords & subreddits\n",
    "beer_keywords = [\"IPA\", \"lager\"]\n",
    "subreddits = [\"beer\", \"craftbeer\", \"alcohol\"]\n",
    "\n",
    "# User-Agent & Headers\n",
    "headers = {\"User-Agent\": \"Mozilla/5.0\"}\n",
    "\n",
    "# Start measuring execution time\n",
    "start_time = time.time()\n",
    "\n",
    "# List to store data\n",
    "posts_json = []\n",
    "\n",
    "# Scraping from Reddit JSON API\n",
    "for subreddit in subreddits:\n",
    "    for keyword in beer_keywords:\n",
    "        url = f\"https://www.reddit.com/r/{subreddit}/search.json?q={keyword}&restrict_sr=1&limit=50\"\n",
    "        response = requests.get(url, headers=headers)\n",
    "\n",
    "        if response.status_code == 200:\n",
    "            data = response.json()\n",
    "            posts = data[\"data\"][\"children\"]  # children: An array containing the actual post data from the Reddit JSON API response\n",
    "            \n",
    "            for post in posts:\n",
    "                title = post[\"data\"][\"title\"]\n",
    "                text = post[\"data\"][\"selftext\"]\n",
    "                score = post[\"data\"][\"score\"]\n",
    "                posts_json.append([subreddit, keyword, title, text, score])\n",
    "        else:\n",
    "            print(f\"Error fetching data from {subreddit}: {response.status_code}\")\n",
    "\n",
    "# End measuring execution time\n",
    "end_time = time.time()\n",
    "json_api_time = end_time - start_time\n",
    "\n",
    "# Save data to CSV\n",
    "df_json = pd.DataFrame(posts_json, columns=[\"Subreddit\", \"Keyword\", \"Title\", \"Text\", \"Score\"])\n",
    "df_json.to_csv(\"beer_reviews_json.csv\", index=False)\n",
    "\n",
    "print(f\"DataFrame is saved. \\nRequests+Json api Time: {json_api_time:.2f} seconds\")"
   ]
  },
  {
   "cell_type": "code",
   "execution_count": 82,
   "metadata": {},
   "outputs": [
    {
     "data": {
      "text/plain": [
       "<bound method DataFrame.info of     Subreddit Keyword                                              Title  \\\n",
       "0        beer     IPA  If your IPA does not have the date printed on ...   \n",
       "1        beer     IPA  Non-IPA drinkers - are there any IPAs that you...   \n",
       "2        beer     IPA  \"IPA has gone too far.\", says former Stone bre...   \n",
       "3        beer     IPA  Potentially unpopular opinion: a “variety pack...   \n",
       "4        beer     IPA  Who here remembers Ranger IPA before it became...   \n",
       "..        ...     ...                                                ...   \n",
       "295   alcohol   lager               Found behind my old hot water heater   \n",
       "296   alcohol   lager        \"heh you don't drink it for the taste, kid\"   \n",
       "297   alcohol   lager           Graph of alcohols and my future mini-bar   \n",
       "298   alcohol   lager               Why in the hell do people like ipas?   \n",
       "299   alcohol   lager         best alcohol to drink on night out on diet   \n",
       "\n",
       "                                                  Text  Score  \n",
       "0    I’m tired of seeing no dates on cans, nothing ...    719  \n",
       "1    Hey everyone. I turned 21 in November, and my ...     57  \n",
       "2                                                        1707  \n",
       "3                                       I have spoken     587  \n",
       "4    To me voodoo ranger sucks ( especially the jui...    238  \n",
       "..                                                 ...    ...  \n",
       "295              Anyone know what decade this is from?     29  \n",
       "296  How often that line comes up in films or TV. Y...     65  \n",
       "297                                                         1  \n",
       "298  I got 4 different highly rated IPA's from my l...     43  \n",
       "299  so i’ve been smashing diet recently ; losses 4...      1  \n",
       "\n",
       "[300 rows x 5 columns]>"
      ]
     },
     "execution_count": 82,
     "metadata": {},
     "output_type": "execute_result"
    }
   ],
   "source": [
    "df_json.info"
   ]
  },
  {
   "cell_type": "markdown",
   "metadata": {},
   "source": [
    "#### JSON Result\n",
    "- The number of pages: 300  \n",
    "- Praw Time for scraping: 4.81s "
   ]
  },
  {
   "cell_type": "markdown",
   "metadata": {},
   "source": [
    "### 2.3. Comparision Praw vs Json API + requests"
   ]
  },
  {
   "cell_type": "markdown",
   "metadata": {},
   "source": [
    "- PRAW: A Python library that simplifies the use of Reddit's official API, automatically handling authentication and request limits.  \n",
    "- Reddit JSON API+Requests: Involves sending HTTP requests directly and processing the JSON responses."
   ]
  },
  {
   "cell_type": "markdown",
   "metadata": {},
   "source": [
    "In this project, performance comparison results showed that the Reddit JSON API took 4.81 seconds, while PRAW took 7.1 seconds, with the JSON API being faster. This is because the JSON API simply sends HTTP requests and receives JSON responses, allowing for faster processing without the overhead of library wrapping. In contrast, PRAW maintains a connection with the API and handles multiple tasks, which takes more time.\n",
    "\n",
    "However, from a user perspective, when scraping 300 pages, PRAW's more concise and intuitive code made the data collection process much easier and more convenient."
   ]
  },
  {
   "cell_type": "markdown",
   "metadata": {},
   "source": [
    " ## Part 2: Text analysis\n"
   ]
  },
  {
   "cell_type": "markdown",
   "metadata": {},
   "source": [
    "### 2.1. Vader  \n",
    "Vader is optimized for short texts such as social media or reviews, and returns the sentiment analysis results  \n",
    "as a score divided into positive, negative, and neutral. It's useful for measuring the intensity of emotions in text."
   ]
  },
  {
   "cell_type": "code",
   "execution_count": 83,
   "metadata": {},
   "outputs": [],
   "source": [
    "# Load the library\n",
    "from vaderSentiment.vaderSentiment import SentimentIntensityAnalyzer"
   ]
  },
  {
   "cell_type": "code",
   "execution_count": 84,
   "metadata": {},
   "outputs": [],
   "source": [
    "# Load the data\n",
    "df = pd.read_csv(\"beer_reviews_praw.csv\")\n",
    "\n",
    "# Initialize VADER analyzer\n",
    "vader_analyzer = SentimentIntensityAnalyzer()\n",
    "\n",
    "# Function to analyze sentiment\n",
    "def analyze_vader_sentiment(text):\n",
    "    vader_score = vader_analyzer.polarity_scores(text)[\"compound\"]\n",
    "    \n",
    "    if vader_score >= 0.05:\n",
    "        sentiment = \"Positive\"\n",
    "    elif vader_score <= -0.05:\n",
    "        sentiment = \"Negative\"\n",
    "    else:\n",
    "        sentiment = \"Neutral\"\n",
    "    \n",
    "    return vader_score, sentiment\n",
    "\n",
    "# Apply VADER sentiment analysis\n",
    "df[\"VADER_Score\"] = df[\"Text\"].apply(lambda x: analyze_vader_sentiment(str(x))[0])\n",
    "df[\"VADER_Sentiment_Label\"] = df[\"Text\"].apply(lambda x: analyze_vader_sentiment(str(x))[1])\n",
    "\n",
    "# Filter IPA & Lager separately\n",
    "ipa_vader_df = df[df[\"Keyword\"] == \"IPA\"]\n",
    "lager_vader_df = df[df[\"Keyword\"] == \"lager\"]\n",
    "\n",
    "# Count sentiment labels for IPA and Lager\n",
    "ipa_vader = ipa_vader_df[\"VADER_Sentiment_Label\"].value_counts(normalize=True) * 100\n",
    "lager_vader = lager_vader_df[\"VADER_Sentiment_Label\"].value_counts(normalize=True) * 100"
   ]
  },
  {
   "cell_type": "code",
   "execution_count": 85,
   "metadata": {},
   "outputs": [
    {
     "name": "stdout",
     "output_type": "stream",
     "text": [
      "\n",
      "VADER Sentiment Distribution for IPA (%)\n",
      "VADER_Sentiment_Label\n",
      "Neutral     49.333333\n",
      "Positive    37.333333\n",
      "Negative    13.333333\n",
      "Name: proportion, dtype: float64\n",
      "\n",
      "VADER Sentiment Distribution for Lager (%)\n",
      "VADER_Sentiment_Label\n",
      "Neutral     50.666667\n",
      "Positive    42.000000\n",
      "Negative     7.333333\n",
      "Name: proportion, dtype: float64\n"
     ]
    }
   ],
   "source": [
    "\n",
    "# Print results\n",
    "print(\"\\nVADER Sentiment Distribution for IPA (%)\")\n",
    "print(ipa_vader)\n",
    "\n",
    "print(\"\\nVADER Sentiment Distribution for Lager (%)\")\n",
    "print(lager_vader)"
   ]
  },
  {
   "cell_type": "markdown",
   "metadata": {},
   "source": [
    "### 2.2. TextBlob\n",
    "TextBlob is a simple and intuitive library for natural language processing (NLP) in Python. It is primarily used for text analysis and sentiment analysis, along with various other NLP tasks.   \n",
    "\n",
    "**Polarity** indicates the degree of positivity or negativity in the text, ranging from -1 (negative) to 1 (positive).  \n",
    "**Subjectivity** reflects the degree of subjectivity in the text, ranging from 0 (objective) to 1 (subjective)."
   ]
  },
  {
   "cell_type": "code",
   "execution_count": 86,
   "metadata": {},
   "outputs": [],
   "source": [
    "# Load the library\n",
    "from textblob import TextBlob"
   ]
  },
  {
   "cell_type": "code",
   "execution_count": 87,
   "metadata": {},
   "outputs": [],
   "source": [
    "\n",
    "# Function to analyze sentiment\n",
    "def analyze_textblob_sentiment(text):\n",
    "    textblob_score = TextBlob(text).sentiment.polarity\n",
    "    \n",
    "    if textblob_score >= 0.05:\n",
    "        sentiment = \"Positive\"\n",
    "    elif textblob_score <= -0.05:\n",
    "        sentiment = \"Negative\"\n",
    "    else:\n",
    "        sentiment = \"Neutral\"\n",
    "    \n",
    "    return textblob_score, sentiment\n",
    "\n",
    "# Apply TextBlob sentiment analysis separately\n",
    "df[\"TextBlob_Score\"] = df[\"Text\"].apply(lambda x: analyze_textblob_sentiment(str(x))[0])\n",
    "df[\"TextBlob_Sentiment_Label\"] = df[\"Text\"].apply(lambda x: analyze_textblob_sentiment(str(x))[1])\n",
    "\n",
    "# Filter IPA & Lager separately\n",
    "ipa_textblob_df = df[df[\"Keyword\"] == \"IPA\"]\n",
    "lager_textblob_df = df[df[\"Keyword\"] == \"lager\"]\n",
    "\n",
    "# Count sentiment labels for IPA and Lager\n",
    "ipa_textblob = ipa_textblob_df[\"TextBlob_Sentiment_Label\"].value_counts(normalize=True) * 100\n",
    "lager_textblob = lager_textblob_df[\"TextBlob_Sentiment_Label\"].value_counts(normalize=True) * 100\n"
   ]
  },
  {
   "cell_type": "code",
   "execution_count": 88,
   "metadata": {},
   "outputs": [
    {
     "name": "stdout",
     "output_type": "stream",
     "text": [
      "\n",
      "TextBlob Sentiment Distribution for IPA (%)\n",
      "TextBlob_Sentiment_Label\n",
      "Neutral     57.333333\n",
      "Positive    33.333333\n",
      "Negative     9.333333\n",
      "Name: proportion, dtype: float64\n",
      "\n",
      "TextBlob Sentiment Distribution for Lager (%)\n",
      "TextBlob_Sentiment_Label\n",
      "Neutral     54.666667\n",
      "Positive    38.000000\n",
      "Negative     7.333333\n",
      "Name: proportion, dtype: float64\n"
     ]
    }
   ],
   "source": [
    "# Print results\n",
    "print(\"\\nTextBlob Sentiment Distribution for IPA (%)\")\n",
    "print(ipa_textblob)\n",
    "\n",
    "print(\"\\nTextBlob Sentiment Distribution for Lager (%)\")\n",
    "print(lager_textblob)"
   ]
  },
  {
   "cell_type": "markdown",
   "metadata": {},
   "source": [
    "### 2.3. Importance Score"
   ]
  },
  {
   "cell_type": "markdown",
   "metadata": {},
   "source": [
    "Importance analysis aims to assess how significant each post's content is regarding the topic.  \n",
    "Since not all reviews may hold the same value, in this project, the Reddit score was used as a weight to conduct the importance analysis."
   ]
  },
  {
   "cell_type": "code",
   "execution_count": 89,
   "metadata": {},
   "outputs": [
    {
     "name": "stdout",
     "output_type": "stream",
     "text": [
      "Importance Score Table:\n"
     ]
    },
    {
     "data": {
      "text/html": [
       "<div>\n",
       "<style scoped>\n",
       "    .dataframe tbody tr th:only-of-type {\n",
       "        vertical-align: middle;\n",
       "    }\n",
       "\n",
       "    .dataframe tbody tr th {\n",
       "        vertical-align: top;\n",
       "    }\n",
       "\n",
       "    .dataframe thead th {\n",
       "        text-align: right;\n",
       "    }\n",
       "</style>\n",
       "<table border=\"1\" class=\"dataframe\">\n",
       "  <thead>\n",
       "    <tr style=\"text-align: right;\">\n",
       "      <th></th>\n",
       "      <th>Text</th>\n",
       "      <th>Importance_Score</th>\n",
       "      <th>Importance_Direction</th>\n",
       "      <th>VADER_Sentiment_Label</th>\n",
       "      <th>TextBlob_Sentiment_Label</th>\n",
       "    </tr>\n",
       "  </thead>\n",
       "  <tbody>\n",
       "    <tr>\n",
       "      <th>0</th>\n",
       "      <td>I’m tired of seeing no dates on cans, nothing ...</td>\n",
       "      <td>-0.876338</td>\n",
       "      <td>Negative</td>\n",
       "      <td>Negative</td>\n",
       "      <td>Negative</td>\n",
       "    </tr>\n",
       "    <tr>\n",
       "      <th>1</th>\n",
       "      <td>Hey everyone. I turned 21 in November, and my ...</td>\n",
       "      <td>0.596254</td>\n",
       "      <td>Positive</td>\n",
       "      <td>Positive</td>\n",
       "      <td>Positive</td>\n",
       "    </tr>\n",
       "    <tr>\n",
       "      <th>2</th>\n",
       "      <td>NaN</td>\n",
       "      <td>0.000000</td>\n",
       "      <td>Neutral</td>\n",
       "      <td>Neutral</td>\n",
       "      <td>Neutral</td>\n",
       "    </tr>\n",
       "    <tr>\n",
       "      <th>3</th>\n",
       "      <td>I have spoken</td>\n",
       "      <td>0.000000</td>\n",
       "      <td>Neutral</td>\n",
       "      <td>Neutral</td>\n",
       "      <td>Neutral</td>\n",
       "    </tr>\n",
       "    <tr>\n",
       "      <th>4</th>\n",
       "      <td>To me voodoo ranger sucks ( especially the jui...</td>\n",
       "      <td>-0.576103</td>\n",
       "      <td>Negative</td>\n",
       "      <td>Negative</td>\n",
       "      <td>Negative</td>\n",
       "    </tr>\n",
       "    <tr>\n",
       "      <th>...</th>\n",
       "      <td>...</td>\n",
       "      <td>...</td>\n",
       "      <td>...</td>\n",
       "      <td>...</td>\n",
       "      <td>...</td>\n",
       "    </tr>\n",
       "    <tr>\n",
       "      <th>295</th>\n",
       "      <td>Anyone know what decade this is from?</td>\n",
       "      <td>0.000000</td>\n",
       "      <td>Neutral</td>\n",
       "      <td>Neutral</td>\n",
       "      <td>Neutral</td>\n",
       "    </tr>\n",
       "    <tr>\n",
       "      <th>296</th>\n",
       "      <td>How often that line comes up in films or TV. Y...</td>\n",
       "      <td>0.653527</td>\n",
       "      <td>Positive</td>\n",
       "      <td>Positive</td>\n",
       "      <td>Positive</td>\n",
       "    </tr>\n",
       "    <tr>\n",
       "      <th>297</th>\n",
       "      <td>NaN</td>\n",
       "      <td>0.000000</td>\n",
       "      <td>Neutral</td>\n",
       "      <td>Neutral</td>\n",
       "      <td>Neutral</td>\n",
       "    </tr>\n",
       "    <tr>\n",
       "      <th>298</th>\n",
       "      <td>I got 4 different highly rated IPA's from my l...</td>\n",
       "      <td>-0.419911</td>\n",
       "      <td>Negative</td>\n",
       "      <td>Negative</td>\n",
       "      <td>Negative</td>\n",
       "    </tr>\n",
       "    <tr>\n",
       "      <th>299</th>\n",
       "      <td>so i’ve been smashing diet recently ; losses 4...</td>\n",
       "      <td>0.628378</td>\n",
       "      <td>Positive</td>\n",
       "      <td>Positive</td>\n",
       "      <td>Positive</td>\n",
       "    </tr>\n",
       "  </tbody>\n",
       "</table>\n",
       "<p>300 rows × 5 columns</p>\n",
       "</div>"
      ],
      "text/plain": [
       "                                                  Text  Importance_Score  \\\n",
       "0    I’m tired of seeing no dates on cans, nothing ...         -0.876338   \n",
       "1    Hey everyone. I turned 21 in November, and my ...          0.596254   \n",
       "2                                                  NaN          0.000000   \n",
       "3                                       I have spoken           0.000000   \n",
       "4    To me voodoo ranger sucks ( especially the jui...         -0.576103   \n",
       "..                                                 ...               ...   \n",
       "295              Anyone know what decade this is from?          0.000000   \n",
       "296  How often that line comes up in films or TV. Y...          0.653527   \n",
       "297                                                NaN          0.000000   \n",
       "298  I got 4 different highly rated IPA's from my l...         -0.419911   \n",
       "299  so i’ve been smashing diet recently ; losses 4...          0.628378   \n",
       "\n",
       "    Importance_Direction VADER_Sentiment_Label TextBlob_Sentiment_Label  \n",
       "0               Negative              Negative                 Negative  \n",
       "1               Positive              Positive                 Positive  \n",
       "2                Neutral               Neutral                  Neutral  \n",
       "3                Neutral               Neutral                  Neutral  \n",
       "4               Negative              Negative                 Negative  \n",
       "..                   ...                   ...                      ...  \n",
       "295              Neutral               Neutral                  Neutral  \n",
       "296             Positive              Positive                 Positive  \n",
       "297              Neutral               Neutral                  Neutral  \n",
       "298             Negative              Negative                 Negative  \n",
       "299             Positive              Positive                 Positive  \n",
       "\n",
       "[300 rows x 5 columns]"
      ]
     },
     "execution_count": 89,
     "metadata": {},
     "output_type": "execute_result"
    }
   ],
   "source": [
    "# Function to calculate Importance Score based on VADER, TextBlob scores and Reddit score\n",
    "def calculate_importance_score(vader_score, textblob_score, score):\n",
    "    importance_score = vader_score * 0.5 + textblob_score * 0.5\n",
    "    # Weight Reddit score\n",
    "    weighted_importance = importance_score * (1 + abs(score) / 1000)\n",
    "    return weighted_importance\n",
    "\n",
    "# Apply Importance Score calculation with score\n",
    "df[\"Importance_Score\"] = df.apply(lambda x: calculate_importance_score(x[\"VADER_Score\"], x[\"TextBlob_Score\"], x[\"Score\"]), axis=1)\n",
    "\n",
    "# Assign Importance Direction (Positive, Negative, Neutral)\n",
    "df[\"Importance_Direction\"] = df[\"Importance_Score\"].apply(lambda x: \"Positive\" if x > 0 else \"Negative\" if x < 0 else \"Neutral\")\n",
    "\n",
    "# Combine results\n",
    "importance_df = df[[\"Text\", \"Importance_Score\", \"Importance_Direction\", \"VADER_Sentiment_Label\", \"TextBlob_Sentiment_Label\"]]\n",
    "\n",
    "# Print\n",
    "print(\"Importance Score Table:\")\n",
    "importance_df"
   ]
  },
  {
   "cell_type": "code",
   "execution_count": 90,
   "metadata": {},
   "outputs": [
    {
     "name": "stdout",
     "output_type": "stream",
     "text": [
      "\n",
      "Importance Direction Value Counts:\n",
      "Importance_Direction\n",
      "Neutral     140\n",
      "Positive    128\n",
      "Negative     32\n",
      "Name: count, dtype: int64\n",
      "\n",
      "VADER Sentiment Label Value Counts:\n",
      "VADER_Sentiment_Label\n",
      "Neutral     150\n",
      "Positive    119\n",
      "Negative     31\n",
      "Name: count, dtype: int64\n",
      "\n",
      "TextBlob Sentiment Label Value Counts:\n",
      "TextBlob_Sentiment_Label\n",
      "Neutral     168\n",
      "Positive    107\n",
      "Negative     25\n",
      "Name: count, dtype: int64\n"
     ]
    }
   ],
   "source": [
    "# Print value counts for categorical columns\n",
    "print(\"\\nImportance Direction Value Counts:\")\n",
    "print(df[\"Importance_Direction\"].value_counts())\n",
    "\n",
    "print(\"\\nVADER Sentiment Label Value Counts:\")\n",
    "print(df[\"VADER_Sentiment_Label\"].value_counts())\n",
    "\n",
    "print(\"\\nTextBlob Sentiment Label Value Counts:\")\n",
    "print(df[\"TextBlob_Sentiment_Label\"].value_counts())"
   ]
  },
  {
   "cell_type": "code",
   "execution_count": 91,
   "metadata": {},
   "outputs": [],
   "source": [
    "# Save the dataframe with sentiment results to CSV\n",
    "df.to_csv(\"beer_reviews_with_sentiment.csv\", index=False)"
   ]
  },
  {
   "cell_type": "markdown",
   "metadata": {},
   "source": [
    "### 2.3. Results of Sentiment Analysis"
   ]
  },
  {
   "cell_type": "code",
   "execution_count": 92,
   "metadata": {},
   "outputs": [
    {
     "data": {
      "text/html": [
       "<div>\n",
       "<style scoped>\n",
       "    .dataframe tbody tr th:only-of-type {\n",
       "        vertical-align: middle;\n",
       "    }\n",
       "\n",
       "    .dataframe tbody tr th {\n",
       "        vertical-align: top;\n",
       "    }\n",
       "\n",
       "    .dataframe thead th {\n",
       "        text-align: right;\n",
       "    }\n",
       "</style>\n",
       "<table border=\"1\" class=\"dataframe\">\n",
       "  <thead>\n",
       "    <tr style=\"text-align: right;\">\n",
       "      <th></th>\n",
       "      <th>Sentiment</th>\n",
       "      <th>IPA_VADER (%)</th>\n",
       "      <th>Lager_VADER (%)</th>\n",
       "      <th>IPA_TextBlob (%)</th>\n",
       "      <th>Lager_TextBlob (%)</th>\n",
       "      <th>Importance Direction counts</th>\n",
       "    </tr>\n",
       "  </thead>\n",
       "  <tbody>\n",
       "    <tr>\n",
       "      <th>0</th>\n",
       "      <td>Neutral</td>\n",
       "      <td>49.333333</td>\n",
       "      <td>50.666667</td>\n",
       "      <td>57.333333</td>\n",
       "      <td>54.666667</td>\n",
       "      <td>140</td>\n",
       "    </tr>\n",
       "    <tr>\n",
       "      <th>1</th>\n",
       "      <td>Positive</td>\n",
       "      <td>37.333333</td>\n",
       "      <td>42.000000</td>\n",
       "      <td>33.333333</td>\n",
       "      <td>38.000000</td>\n",
       "      <td>128</td>\n",
       "    </tr>\n",
       "    <tr>\n",
       "      <th>2</th>\n",
       "      <td>Negative</td>\n",
       "      <td>13.333333</td>\n",
       "      <td>7.333333</td>\n",
       "      <td>9.333333</td>\n",
       "      <td>7.333333</td>\n",
       "      <td>32</td>\n",
       "    </tr>\n",
       "  </tbody>\n",
       "</table>\n",
       "</div>"
      ],
      "text/plain": [
       "  Sentiment  IPA_VADER (%)  Lager_VADER (%)  IPA_TextBlob (%)  \\\n",
       "0   Neutral      49.333333        50.666667         57.333333   \n",
       "1  Positive      37.333333        42.000000         33.333333   \n",
       "2  Negative      13.333333         7.333333          9.333333   \n",
       "\n",
       "   Lager_TextBlob (%)  Importance Direction counts  \n",
       "0           54.666667                          140  \n",
       "1           38.000000                          128  \n",
       "2            7.333333                           32  "
      ]
     },
     "execution_count": 92,
     "metadata": {},
     "output_type": "execute_result"
    }
   ],
   "source": [
    "# VADER results\n",
    "ipa_vader_df = ipa_vader.rename(\"IPA_VADER (%)\")\n",
    "lager_vader_df = lager_vader.rename(\"Lager_VADER (%)\")\n",
    "\n",
    "# TextBlob results\n",
    "ipa_textblob_df = ipa_textblob.rename(\"IPA_TextBlob (%)\")\n",
    "lager_textblob_df = lager_textblob.rename(\"Lager_TextBlob (%)\")\n",
    "\n",
    "# Importance score result\n",
    "important_d_count = df[\"Importance_Direction\"].value_counts().rename(\"Importance Direction counts\")\n",
    "\n",
    "# Combine Dataframes\n",
    "result_df = pd.concat([ipa_vader_df, lager_vader_df, ipa_textblob_df, lager_textblob_df,important_d_count], axis=1).reset_index()\n",
    "result_df.rename(columns={\"index\": \"Sentiment\"}, inplace=True)\n",
    "\n",
    "# Print\n",
    "result_df"
   ]
  },
  {
   "cell_type": "markdown",
   "metadata": {},
   "source": [
    "**VADER**: Both IPA and Lager had the highest proportion of Neutral sentiment, accounting for approximately 50%. In terms of Positive sentiment, Lager (42%) received slightly more positive reactions than IPA (37.33%). On the other hand, Negative sentiment was higher for IPA (13.33%) compared to Lager (7.33%).  \n",
    "\n",
    "**TextBlob**: The Neutral sentiment percentage was even higher than VADER, with IPA at 57.33% and Lager at 54.67%. Similar to VADER, Positive sentiment was higher for Lager (38%) than IPA (33.33%). In terms of Negative sentiment, IPA (9.33%) showed a slightly higher percentage than Lager (7.33%).  \n",
    "\n",
    "\n",
    "In conclusion, consumer sentiment toward IPA was more negative than Lager, likely due to IPA’s strong aroma and bitter taste, which tend to be polarizing. In contrast, Lager is generally preferred by a wider audience due to its lighter and smoother taste, resulting in fewer negative reactions.\n",
    "\n",
    "However, given that both models showed a Neutral sentiment rate exceeding 50%, it suggests that Reddit beer reviews are more focused on sharing experiences or comparing beers within the same category (IPA or Lager) rather than expressing strong emotions. For future related projects, incorporating sentiment analysis of well-known brands within each category could yield more meaningful insights."
   ]
  },
  {
   "cell_type": "markdown",
   "metadata": {},
   "source": []
  }
 ],
 "metadata": {
  "kernelspec": {
   "display_name": ".venv",
   "language": "python",
   "name": "python3"
  },
  "language_info": {
   "codemirror_mode": {
    "name": "ipython",
    "version": 3
   },
   "file_extension": ".py",
   "mimetype": "text/x-python",
   "name": "python",
   "nbconvert_exporter": "python",
   "pygments_lexer": "ipython3",
   "version": "3.13.2"
  }
 },
 "nbformat": 4,
 "nbformat_minor": 2
}
